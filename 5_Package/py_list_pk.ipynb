{
 "cells": [
  {
   "cell_type": "markdown",
   "id": "596f4ccd",
   "metadata": {},
   "source": [
    "## Sara Aldubaie "
   ]
  },
  {
   "cell_type": "code",
   "execution_count": null,
   "id": "fabd95d4",
   "metadata": {},
   "outputs": [],
   "source": [
    "class py_list_pk:\n",
    "    def __init__(self, user_list):\n",
    "        self.user_list = user_list\n",
    "        \n",
    "    # method finds the maximum value in a list \n",
    "    def return_max(self):\n",
    "        if not self.user_list: # return false if list is empty \n",
    "            return(False)\n",
    "        else:\n",
    "            max = self.user_list[0] # finding first element \n",
    "            for number in self.user_list: # looping through list elements \n",
    "                if number > max:  # if current element is bigger than max element \n",
    "                    max = number  # update max value \n",
    "            return(max) # return the updated max value \n",
    "        \n",
    "    # method finds the minimum value in a list \n",
    "    def return_min(self):\n",
    "        if not self.user_list: # return false if list is empty \n",
    "            return(False)\n",
    "        else:\n",
    "            min = self.user_list[0] # finding first element \n",
    "            for number in self.user_list: # looping through list elements \n",
    "                if number < min:  # if current element is less than min element \n",
    "                    min = number  # update min value \n",
    "            return(min) # return the updated min value \n",
    "    \n",
    "    # method finds the maximum value squared\n",
    "    def max_squared(self):\n",
    "        if not self.user_list: # return false if list is empty \n",
    "            return(False)\n",
    "        else:\n",
    "            max = self.user_list[0] # finding first element \n",
    "            for number in self.user_list: # looping through list elements \n",
    "                if number > max:  # if current element is bigger than max element \n",
    "                    max = number  # update max value \n",
    "            return(max**2) # return the updated max value \n",
    "        \n",
    "    # method to find the list length \n",
    "    def return_length(self):\n",
    "        if not self.user_list: # return false if list is empty \n",
    "            return(False)\n",
    "        else:\n",
    "            count = 0 # start count from 0  \n",
    "            for number in self.user_list: # looping through list elements \n",
    "                count = count +1 # increment count by one\n",
    "            return(count) # return count value \n",
    "        \n",
    "    # method finds the sum of positive values in a list\n",
    "    def return_positive_sum(self):\n",
    "        if not self.user_list: # return false if list is empty \n",
    "            return(False)\n",
    "        else:\n",
    "            pos_sum = 0 # start with zero \n",
    "            for number in self.user_list: # looping through list elements \n",
    "                if number > 0:  # if current element is bigger than 0 (positive)\n",
    "                    pos_sum = pos_sum + number  # sums the positive numbers in the list\n",
    "            return(pos_sum) # return the summation result   \n",
    "    \n",
    "    \n",
    "    # method finds the sum of negative values in a list\n",
    "    def return_negative_sum(self):\n",
    "        if not self.user_list: # return false if list is empty \n",
    "            return(False)\n",
    "        else:\n",
    "            neg_sum = 0 # start with zero \n",
    "            for number in self.user_list: # looping through list elements \n",
    "                if number < 0:  # if current element is less than 0 (negative)\n",
    "                    neg_sum = neg_sum + number  # sums the negative numbers in the list\n",
    "            return(neg_sum) # return the summation result   \n",
    "\n",
    "    # method return a boolean list of the number if it is prime \n",
    "    \n",
    "    def is_prime(self): \n",
    "        if not self.user_list: # return false if list is empty \n",
    "            return(False)\n",
    "        else: \n",
    "            is_prime_list = [] # empty list to save blean result in it \n",
    "            for number in self.user_list: # looping through list elements \n",
    "                if number <= 1: # if number is negative \n",
    "                    is_prime_list.append(False)\n",
    "\n",
    "                else:  \n",
    "                    if number == 2:\n",
    "                        is_prime_list.append(True)\n",
    "                    else:\n",
    "                        for x in range(number -1, 1, -1): # make a range between the current result and 2 (without considering 1 and the addition \n",
    "                            if number%x == 0: # check if the number is divisible by any number from the range\n",
    "\n",
    "                                is_prime_list.append(False) # adding false if number is not prime \n",
    "                                break\n",
    "                        else:\n",
    "                            is_prime_list.append(True) #adding true if number is prime \n",
    "\n",
    "            return is_prime_list\n",
    "        \n",
    "    # method finds the avarage,  mode, and median\n",
    "\n",
    "    \n",
    "    def return_summary(self):\n",
    "        return f'avarage: {py_list_pk.return_avg(self)}\\nmode: {py_list_pk.return_mode(self)}\\nmedian: {py_list_pk.return_median(self)}'\n",
    "    \n",
    "    # method return the avarage number of a list\n",
    "\n",
    "    def return_avg(self):\n",
    "        if not self.user_list: # return false if list is empty \n",
    "            return(False)\n",
    "        else:\n",
    "            # finding the sum of list numbers \n",
    "            num_sum = 0 # start with zero for sum \n",
    "            count = 0 # value to store the length\n",
    "            for number in self.user_list: # looping through list elements \n",
    "                num_sum = num_sum + number  # sums the negative numbers in the list\n",
    "                count +=1 # increment count by one\n",
    "            return(num_sum/count)\n",
    "        \n",
    "        \n",
    "    # method return two values (most frequent number in list, and the repetition of that number)\n",
    "    def return_mode(self): \n",
    "        if not self.user_list: # return false if list is empty \n",
    "            return(False)\n",
    "        else: \n",
    "            repetition = 0 # start with zero \n",
    "            freq_number = 0 # start with zero \n",
    "            for number in self.user_list: # looping through list elements \n",
    "                count = self.user_list.count(number) # finding how many times that number is repeated\n",
    "                if count > repetition:\n",
    "                    repetition = count\n",
    "                    freq_number = number \n",
    "            if repetition == 1:  # if there is no repetition\n",
    "                return('the list has no repetition')\n",
    "            else: # most frequent number and the number its repeated\n",
    "                return (freq_number, repetition) \n",
    "            \n",
    "            \n",
    "    # method return the median number of a list\n",
    "    def return_median(self):\n",
    "        if not self.user_list: # return false if list is empty \n",
    "            return(False)\n",
    "        else: \n",
    "            self.user_list.sort()# sort the list\n",
    "            \n",
    "            if len(self.user_list)%2 == 0: # if the length is a double number\n",
    "                # find average for the two numbers in the center of the list\n",
    "                num1 = self.user_list[(int(len(self.user_list)/2))]\n",
    "                num2 = self.user_list[(int(len(self.user_list)/2))-1]\n",
    "                position_avg = (num1+num2)/2\n",
    "                return position_avg \n",
    "            # length is odd number\n",
    "            else: \n",
    "                position = round((len(self.user_list)/2)+.5) #finding position of median number\n",
    "                return self.user_list[position -1]\n",
    "\n",
    "      "
   ]
  },
  {
   "cell_type": "code",
   "execution_count": 14,
   "id": "9de5c5bd",
   "metadata": {},
   "outputs": [
    {
     "name": "stdout",
     "output_type": "stream",
     "text": [
      "7\n"
     ]
    }
   ],
   "source": [
    "my_list = py_list_pk([1,2,3,5,6,-1,5,7,-299])\n",
    "print(py_list_pk.return_max(my_list))"
   ]
  },
  {
   "cell_type": "code",
   "execution_count": 12,
   "id": "5015d04a",
   "metadata": {},
   "outputs": [
    {
     "name": "stdout",
     "output_type": "stream",
     "text": [
      "-299\n"
     ]
    }
   ],
   "source": [
    "my_list = py_list_pk([1,2,3,5,6,-1,5,7,-299])\n",
    "print(py_list_pk.return_min(my_list))\n",
    "\n"
   ]
  },
  {
   "cell_type": "code",
   "execution_count": 11,
   "id": "85f80477",
   "metadata": {},
   "outputs": [
    {
     "name": "stdout",
     "output_type": "stream",
     "text": [
      "49\n"
     ]
    }
   ],
   "source": [
    "my_list = py_list_pk([1,2,3,5,6,-1,5,7,-299])\n",
    "print(py_list_pk.max_squared(my_list))\n"
   ]
  },
  {
   "cell_type": "code",
   "execution_count": 10,
   "id": "b2cf1a1f",
   "metadata": {},
   "outputs": [
    {
     "name": "stdout",
     "output_type": "stream",
     "text": [
      "9\n"
     ]
    }
   ],
   "source": [
    "my_list = py_list_pk([1,2,3,5,6,-1,5,7,-299])\n",
    "print(py_list_pk.return_length(my_list))"
   ]
  },
  {
   "cell_type": "code",
   "execution_count": 9,
   "id": "1a2695fb",
   "metadata": {},
   "outputs": [
    {
     "name": "stdout",
     "output_type": "stream",
     "text": [
      "15\n"
     ]
    }
   ],
   "source": [
    "my_list = py_list_pk([1,2,3,4,5,-3,-5,-3])\n",
    "print(py_list_pk.return_positive_sum(my_list))"
   ]
  },
  {
   "cell_type": "code",
   "execution_count": 8,
   "id": "2424f23b",
   "metadata": {},
   "outputs": [
    {
     "name": "stdout",
     "output_type": "stream",
     "text": [
      "-11\n"
     ]
    }
   ],
   "source": [
    "my_list = py_list_pk([1,2,3,4,5,-3,-5,-3])\n",
    "print(py_list_pk.return_negative_sum(my_list))"
   ]
  },
  {
   "cell_type": "code",
   "execution_count": 7,
   "id": "58a3a487",
   "metadata": {},
   "outputs": [
    {
     "name": "stdout",
     "output_type": "stream",
     "text": [
      "[False, True, True, False, True, False, False, False, False, False, True, True]\n"
     ]
    }
   ],
   "source": [
    "my_list = py_list_pk([1,2,3,4,5,-3,-5,-3,10,4,3,5])\n",
    "print(py_list_pk.is_prime(my_list))"
   ]
  },
  {
   "cell_type": "code",
   "execution_count": 6,
   "id": "c4da8839",
   "metadata": {},
   "outputs": [
    {
     "name": "stdout",
     "output_type": "stream",
     "text": [
      "3.0\n"
     ]
    }
   ],
   "source": [
    "my_list = py_list_pk([1,2,3,4,5])\n",
    "\n",
    "print(py_list_pk.return_avg(my_list))"
   ]
  },
  {
   "cell_type": "code",
   "execution_count": 5,
   "id": "75ed96e6",
   "metadata": {},
   "outputs": [
    {
     "name": "stdout",
     "output_type": "stream",
     "text": [
      "the list has no repetition\n",
      "(1, 4)\n"
     ]
    }
   ],
   "source": [
    "\n",
    "my_list = py_list_pk([12,3,4,5])\n",
    "print(py_list_pk.return_mode(my_list))\n",
    "\n",
    "my_list = py_list_pk([1,2,3,1,2,1,5,1])\n",
    "print(py_list_pk.return_mode(my_list))"
   ]
  },
  {
   "cell_type": "code",
   "execution_count": 2,
   "id": "220dfd2b",
   "metadata": {},
   "outputs": [
    {
     "name": "stdout",
     "output_type": "stream",
     "text": [
      "3.5\n"
     ]
    }
   ],
   "source": [
    "my_list = py_list_pk([6,5,4,3,2,1])\n",
    "print(py_list_pk.return_median(my_list))"
   ]
  },
  {
   "cell_type": "code",
   "execution_count": 18,
   "id": "192a1d4e",
   "metadata": {},
   "outputs": [
    {
     "data": {
      "text/plain": [
       "'avarage: -30.11111111111111\\nmode: (5, 2)\\nmedian: 3'"
      ]
     },
     "execution_count": 18,
     "metadata": {},
     "output_type": "execute_result"
    }
   ],
   "source": [
    "my_list = py_list_pk([1,2,3,5,6,-1,5,7,-299])\n",
    "my_list.return_summary()"
   ]
  },
  {
   "cell_type": "code",
   "execution_count": null,
   "id": "59172893",
   "metadata": {},
   "outputs": [],
   "source": [
    "\n",
    "!pip install -i https://test.pypi.org/simple/ py-list-pkg-sara-Aldubaie==0.0.2\n"
   ]
  },
  {
   "cell_type": "code",
   "execution_count": 1,
   "id": "11131e9e",
   "metadata": {},
   "outputs": [],
   "source": [
    "from py_list_pk import py_list_pk"
   ]
  }
 ],
 "metadata": {
  "kernelspec": {
   "display_name": "Python 3",
   "language": "python",
   "name": "python3"
  },
  "language_info": {
   "codemirror_mode": {
    "name": "ipython",
    "version": 3
   },
   "file_extension": ".py",
   "mimetype": "text/x-python",
   "name": "python",
   "nbconvert_exporter": "python",
   "pygments_lexer": "ipython3",
   "version": "3.8.8"
  }
 },
 "nbformat": 4,
 "nbformat_minor": 5
}
