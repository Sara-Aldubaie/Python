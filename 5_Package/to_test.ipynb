{
 "cells": [
  {
   "cell_type": "code",
   "execution_count": 1,
   "id": "2d1c8d32",
   "metadata": {
    "scrolled": true
   },
   "outputs": [
    {
     "name": "stdout",
     "output_type": "stream",
     "text": [
      "Looking in indexes: https://test.pypi.org/simple/\n",
      "Requirement already satisfied: py-list-pkg-sara-Aldubaie==0.0.3 in c:\\users\\saroonh\\anaconda3\\lib\\site-packages (0.0.3)\n"
     ]
    }
   ],
   "source": [
    "!pip install -i https://test.pypi.org/simple/ py-list-pkg-sara-Aldubaie==0.0.3"
   ]
  },
  {
   "cell_type": "code",
   "execution_count": 2,
   "id": "d72cfab9",
   "metadata": {},
   "outputs": [],
   "source": [
    "from py_list_pk import py_list_pk"
   ]
  },
  {
   "cell_type": "code",
   "execution_count": 3,
   "id": "724e1d76",
   "metadata": {},
   "outputs": [
    {
     "name": "stdout",
     "output_type": "stream",
     "text": [
      "7\n"
     ]
    }
   ],
   "source": [
    "# using method return_max\n",
    "my_list = py_list_pk([1,2,3,5,6,-1,5,7,-299])\n",
    "print(py_list_pk.return_max(my_list))"
   ]
  },
  {
   "cell_type": "code",
   "execution_count": 4,
   "id": "8a35577b",
   "metadata": {},
   "outputs": [
    {
     "name": "stdout",
     "output_type": "stream",
     "text": [
      "-299\n"
     ]
    }
   ],
   "source": [
    "# using method return_min\n",
    "my_list = py_list_pk([1,2,3,5,6,-1,5,7,-299])\n",
    "print(py_list_pk.return_min(my_list))"
   ]
  },
  {
   "cell_type": "code",
   "execution_count": 5,
   "id": "d54b0f64",
   "metadata": {},
   "outputs": [
    {
     "name": "stdout",
     "output_type": "stream",
     "text": [
      "49\n"
     ]
    }
   ],
   "source": [
    "# using method max_squared\n",
    "my_list = py_list_pk([1,2,3,5,6,-1,5,7,-299])\n",
    "print(py_list_pk.max_squared(my_list))"
   ]
  },
  {
   "cell_type": "code",
   "execution_count": 6,
   "id": "a788e8a7",
   "metadata": {},
   "outputs": [
    {
     "name": "stdout",
     "output_type": "stream",
     "text": [
      "9\n"
     ]
    }
   ],
   "source": [
    "# using method return_length\n",
    "my_list = py_list_pk([1,2,3,5,6,-1,5,7,-299])\n",
    "print(py_list_pk.return_length(my_list))"
   ]
  },
  {
   "cell_type": "code",
   "execution_count": 7,
   "id": "3939f57e",
   "metadata": {},
   "outputs": [
    {
     "name": "stdout",
     "output_type": "stream",
     "text": [
      "15\n"
     ]
    }
   ],
   "source": [
    "# using method return_positive_sum\n",
    "my_list = py_list_pk([1,2,3,4,5,-3,-5,-3])\n",
    "print(py_list_pk.return_positive_sum(my_list))"
   ]
  },
  {
   "cell_type": "code",
   "execution_count": 8,
   "id": "275a26ee",
   "metadata": {},
   "outputs": [
    {
     "name": "stdout",
     "output_type": "stream",
     "text": [
      "-11\n"
     ]
    }
   ],
   "source": [
    "# using method return_negative_sum\n",
    "my_list = py_list_pk([1,2,3,4,5,-3,-5,-3])\n",
    "print(py_list_pk.return_negative_sum(my_list))"
   ]
  },
  {
   "cell_type": "code",
   "execution_count": 9,
   "id": "0a99556b",
   "metadata": {},
   "outputs": [
    {
     "name": "stdout",
     "output_type": "stream",
     "text": [
      "[False, True, True, False, True, False, False, False, False, False, True, True]\n"
     ]
    }
   ],
   "source": [
    "# using method is_prime\n",
    "my_list = py_list_pk([1,2,3,4,5,-3,-5,-3,10,4,3,5])\n",
    "print(py_list_pk.is_prime(my_list))"
   ]
  },
  {
   "cell_type": "code",
   "execution_count": 10,
   "id": "3cedce5b",
   "metadata": {},
   "outputs": [
    {
     "name": "stdout",
     "output_type": "stream",
     "text": [
      "3.0\n"
     ]
    }
   ],
   "source": [
    "# using method return_avg\n",
    "my_list = py_list_pk([1,2,3,4,5])\n",
    "print(py_list_pk.return_avg(my_list))"
   ]
  },
  {
   "cell_type": "code",
   "execution_count": 11,
   "id": "05b6ca15",
   "metadata": {},
   "outputs": [
    {
     "name": "stdout",
     "output_type": "stream",
     "text": [
      "the list has no repetition\n",
      "(1, 4)\n"
     ]
    }
   ],
   "source": [
    "# using method return_mode (when there is no mode)\n",
    "my_list = py_list_pk([12,3,4,5])\n",
    "print(py_list_pk.return_mode(my_list))\n",
    "\n",
    "# using method return_mode\n",
    "my_list = py_list_pk([1,2,3,1,2,1,5,1])\n",
    "print(py_list_pk.return_mode(my_list))"
   ]
  },
  {
   "cell_type": "code",
   "execution_count": 12,
   "id": "f6f4eccb",
   "metadata": {},
   "outputs": [
    {
     "name": "stdout",
     "output_type": "stream",
     "text": [
      "3.5\n"
     ]
    }
   ],
   "source": [
    "# using method return_median\n",
    "my_list = py_list_pk([6,5,4,3,2,1])\n",
    "print(py_list_pk.return_median(my_list))"
   ]
  },
  {
   "cell_type": "code",
   "execution_count": 17,
   "id": "0b494766",
   "metadata": {},
   "outputs": [
    {
     "data": {
      "text/plain": [
       "'avarage: 4.0, mode: (1, 4),median: 4'"
      ]
     },
     "execution_count": 17,
     "metadata": {},
     "output_type": "execute_result"
    }
   ],
   "source": [
    "# using method return_summary\n",
    "my_list = py_list_pk([1,2,1,3,1,4,1,5,4,6,7,8,9])\n",
    "my_list.return_summary()"
   ]
  },
  {
   "cell_type": "code",
   "execution_count": null,
   "id": "7b3971b7",
   "metadata": {},
   "outputs": [],
   "source": []
  },
  {
   "cell_type": "code",
   "execution_count": null,
   "id": "7892a9bf",
   "metadata": {},
   "outputs": [],
   "source": []
  }
 ],
 "metadata": {
  "kernelspec": {
   "display_name": "Python 3",
   "language": "python",
   "name": "python3"
  },
  "language_info": {
   "codemirror_mode": {
    "name": "ipython",
    "version": 3
   },
   "file_extension": ".py",
   "mimetype": "text/x-python",
   "name": "python",
   "nbconvert_exporter": "python",
   "pygments_lexer": "ipython3",
   "version": "3.8.8"
  }
 },
 "nbformat": 4,
 "nbformat_minor": 5
}
