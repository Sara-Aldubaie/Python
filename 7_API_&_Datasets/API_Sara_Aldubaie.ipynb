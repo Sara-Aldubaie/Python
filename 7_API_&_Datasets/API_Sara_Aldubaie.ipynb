{
 "cells": [
  {
   "cell_type": "markdown",
   "id": "1d78a809",
   "metadata": {},
   "source": [
    "## Sara Aldubaie"
   ]
  },
  {
   "cell_type": "code",
   "execution_count": 1,
   "id": "8ce01a8f",
   "metadata": {},
   "outputs": [],
   "source": [
    "import requests\n",
    "import pandas as pd"
   ]
  },
  {
   "cell_type": "code",
   "execution_count": 2,
   "id": "639ab496",
   "metadata": {},
   "outputs": [
    {
     "data": {
      "text/html": [
       "<div>\n",
       "<style scoped>\n",
       "    .dataframe tbody tr th:only-of-type {\n",
       "        vertical-align: middle;\n",
       "    }\n",
       "\n",
       "    .dataframe tbody tr th {\n",
       "        vertical-align: top;\n",
       "    }\n",
       "\n",
       "    .dataframe thead th {\n",
       "        text-align: right;\n",
       "    }\n",
       "</style>\n",
       "<table border=\"1\" class=\"dataframe\">\n",
       "  <thead>\n",
       "    <tr style=\"text-align: right;\">\n",
       "      <th></th>\n",
       "      <th>id</th>\n",
       "      <th>country</th>\n",
       "      <th>city</th>\n",
       "      <th>cities</th>\n",
       "      <th>location</th>\n",
       "      <th>locations</th>\n",
       "      <th>sourceName</th>\n",
       "      <th>sourceNames</th>\n",
       "      <th>sourceType</th>\n",
       "      <th>sourceTypes</th>\n",
       "      <th>coordinates</th>\n",
       "      <th>firstUpdated</th>\n",
       "      <th>lastUpdated</th>\n",
       "      <th>parameters</th>\n",
       "      <th>countsByMeasurement</th>\n",
       "      <th>count</th>\n",
       "    </tr>\n",
       "  </thead>\n",
       "  <tbody>\n",
       "    <tr>\n",
       "      <th>0</th>\n",
       "      <td>8688</td>\n",
       "      <td>SA</td>\n",
       "      <td>N/A</td>\n",
       "      <td>[N/A]</td>\n",
       "      <td>Dhahran</td>\n",
       "      <td>[Dhahran]</td>\n",
       "      <td>AirNow</td>\n",
       "      <td>[AirNow]</td>\n",
       "      <td>government</td>\n",
       "      <td>[government]</td>\n",
       "      <td>{'latitude': 26.276861, 'longitude': 50.147232}</td>\n",
       "      <td>2019-10-28T18:00:00Z</td>\n",
       "      <td>2021-05-30T15:00:00Z</td>\n",
       "      <td>[pm25]</td>\n",
       "      <td>[{'parameter': 'pm25', 'count': 29404}]</td>\n",
       "      <td>29404</td>\n",
       "    </tr>\n",
       "    <tr>\n",
       "      <th>1</th>\n",
       "      <td>7673</td>\n",
       "      <td>SA</td>\n",
       "      <td>N/A</td>\n",
       "      <td>[N/A]</td>\n",
       "      <td>Jeddah</td>\n",
       "      <td>[Jeddah]</td>\n",
       "      <td>AirNow</td>\n",
       "      <td>[AirNow]</td>\n",
       "      <td>government</td>\n",
       "      <td>[government]</td>\n",
       "      <td>{'latitude': 21.543486, 'longitude': 39.172989}</td>\n",
       "      <td>2020-06-15T18:00:00Z</td>\n",
       "      <td>2021-02-18T13:00:00Z</td>\n",
       "      <td>[pm25]</td>\n",
       "      <td>[{'parameter': 'pm25', 'count': 9}]</td>\n",
       "      <td>9</td>\n",
       "    </tr>\n",
       "    <tr>\n",
       "      <th>2</th>\n",
       "      <td>6993</td>\n",
       "      <td>SA</td>\n",
       "      <td>Dharan</td>\n",
       "      <td>[Dharan]</td>\n",
       "      <td>US Diplomatic Post: Dharan</td>\n",
       "      <td>[US Diplomatic Post: Dharan]</td>\n",
       "      <td>StateAir_Dharan</td>\n",
       "      <td>[StateAir_Dharan]</td>\n",
       "      <td>government</td>\n",
       "      <td>[government]</td>\n",
       "      <td>{'latitude': 26.304855, 'longitude': 50.154302}</td>\n",
       "      <td>2019-07-15T19:00:00Z</td>\n",
       "      <td>2019-07-16T18:00:00Z</td>\n",
       "      <td>[pm25]</td>\n",
       "      <td>[{'parameter': 'pm25', 'count': 72}]</td>\n",
       "      <td>72</td>\n",
       "    </tr>\n",
       "  </tbody>\n",
       "</table>\n",
       "</div>"
      ],
      "text/plain": [
       "     id country    city    cities                    location  \\\n",
       "0  8688      SA     N/A     [N/A]                     Dhahran   \n",
       "1  7673      SA     N/A     [N/A]                      Jeddah   \n",
       "2  6993      SA  Dharan  [Dharan]  US Diplomatic Post: Dharan   \n",
       "\n",
       "                      locations       sourceName        sourceNames  \\\n",
       "0                     [Dhahran]           AirNow           [AirNow]   \n",
       "1                      [Jeddah]           AirNow           [AirNow]   \n",
       "2  [US Diplomatic Post: Dharan]  StateAir_Dharan  [StateAir_Dharan]   \n",
       "\n",
       "   sourceType   sourceTypes                                      coordinates  \\\n",
       "0  government  [government]  {'latitude': 26.276861, 'longitude': 50.147232}   \n",
       "1  government  [government]  {'latitude': 21.543486, 'longitude': 39.172989}   \n",
       "2  government  [government]  {'latitude': 26.304855, 'longitude': 50.154302}   \n",
       "\n",
       "           firstUpdated           lastUpdated parameters  \\\n",
       "0  2019-10-28T18:00:00Z  2021-05-30T15:00:00Z     [pm25]   \n",
       "1  2020-06-15T18:00:00Z  2021-02-18T13:00:00Z     [pm25]   \n",
       "2  2019-07-15T19:00:00Z  2019-07-16T18:00:00Z     [pm25]   \n",
       "\n",
       "                       countsByMeasurement  count  \n",
       "0  [{'parameter': 'pm25', 'count': 29404}]  29404  \n",
       "1      [{'parameter': 'pm25', 'count': 9}]      9  \n",
       "2     [{'parameter': 'pm25', 'count': 72}]     72  "
      ]
     },
     "execution_count": 2,
     "metadata": {},
     "output_type": "execute_result"
    }
   ],
   "source": [
    "# API Address with parameters set\n",
    "PATH_API = 'https://docs.openaq.org/v1/locations?limit=100&page=1&offset=0&sort=desc&radius=1000&country_id=SA&order_by=lastUpdated&dumpRaw=false'\n",
    "\n",
    "# Make a GET request\n",
    "r = requests.get(PATH_API)\n",
    "\n",
    "# Put the data into a pandas DataFrame\n",
    "df = pd.DataFrame(r.json()[\"results\"])\n",
    "df"
   ]
  },
  {
   "cell_type": "code",
   "execution_count": 3,
   "id": "17bc1bfa",
   "metadata": {},
   "outputs": [
    {
     "name": "stdout",
     "output_type": "stream",
     "text": [
      "['Dhahran' 'Jeddah' 'US Diplomatic Post: Dharan']\n"
     ]
    }
   ],
   "source": [
    "print(df.location.unique())\n",
    "\n",
    "# cities are: Dhahran, Jeddah, and US Diplomatic Post: Dharan\n",
    "# but Dhahran is repeated twice, so at the end we only have two cities( Jeddah and Dhahran )"
   ]
  },
  {
   "cell_type": "code",
   "execution_count": 4,
   "id": "975136ba",
   "metadata": {},
   "outputs": [
    {
     "data": {
      "text/plain": [
       "(3, 16)"
      ]
     },
     "execution_count": 4,
     "metadata": {},
     "output_type": "execute_result"
    }
   ],
   "source": [
    "df.shape\n",
    "\n",
    "# we have 3 rows and 16 columns "
   ]
  }
 ],
 "metadata": {
  "kernelspec": {
   "display_name": "Python 3",
   "language": "python",
   "name": "python3"
  },
  "language_info": {
   "codemirror_mode": {
    "name": "ipython",
    "version": 3
   },
   "file_extension": ".py",
   "mimetype": "text/x-python",
   "name": "python",
   "nbconvert_exporter": "python",
   "pygments_lexer": "ipython3",
   "version": "3.8.8"
  }
 },
 "nbformat": 4,
 "nbformat_minor": 5
}
