{
 "cells": [
  {
   "cell_type": "markdown",
   "id": "bab6f25f",
   "metadata": {},
   "source": [
    "## Sara Aldubaie "
   ]
  },
  {
   "cell_type": "code",
   "execution_count": 1,
   "id": "1d2d2725",
   "metadata": {},
   "outputs": [
    {
     "name": "stdout",
     "output_type": "stream",
     "text": [
      "1\n",
      "2\n",
      "3\n",
      "4\n",
      "5\n",
      "6\n",
      "7\n",
      "8\n",
      "9\n",
      "10\n",
      "11\n",
      "12\n",
      "13\n",
      "14\n",
      "15\n",
      "16\n",
      "17\n",
      "18\n",
      "19\n",
      "20\n",
      "21\n",
      "22\n",
      "23\n",
      "24\n",
      "25\n",
      "26\n",
      "27\n",
      "28\n",
      "29\n",
      "30\n",
      "31\n",
      "32\n",
      "33\n",
      "34\n",
      "35\n",
      "36\n",
      "37\n",
      "38\n",
      "39\n",
      "40\n",
      "41\n",
      "42\n",
      "43\n",
      "44\n",
      "45\n",
      "46\n",
      "47\n",
      "48\n",
      "49\n",
      "50\n",
      "51\n",
      "52\n",
      "53\n",
      "54\n",
      "55\n",
      "56\n",
      "57\n",
      "58\n",
      "59\n",
      "60\n",
      "61\n",
      "62\n",
      "63\n",
      "64\n",
      "65\n",
      "66\n",
      "67\n",
      "68\n",
      "69\n",
      "70\n",
      "71\n",
      "72\n",
      "73\n",
      "74\n",
      "75\n",
      "76\n",
      "77\n",
      "78\n",
      "79\n",
      "80\n",
      "81\n",
      "82\n",
      "83\n",
      "84\n",
      "85\n",
      "86\n",
      "87\n",
      "88\n",
      "89\n",
      "90\n",
      "91\n",
      "92\n",
      "93\n",
      "94\n",
      "95\n",
      "96\n",
      "97\n",
      "98\n",
      "99\n",
      "100\n"
     ]
    }
   ],
   "source": [
    "# print the number between 1 and 100\n",
    "for x in range(1,101):\n",
    "      print (x)"
   ]
  },
  {
   "cell_type": "code",
   "execution_count": 2,
   "id": "3e2ecb78",
   "metadata": {},
   "outputs": [
    {
     "name": "stdout",
     "output_type": "stream",
     "text": [
      "8\n",
      "16\n",
      "24\n",
      "32\n",
      "40\n",
      "48\n",
      "56\n",
      "64\n",
      "72\n",
      "80\n",
      "88\n",
      "96\n"
     ]
    }
   ],
   "source": [
    "# print the number between 1 and 100 divisible by 8\n",
    "for x in range(1,101):\n",
    "    if x%8 == 0:\n",
    "        print (x)\n",
    "      "
   ]
  },
  {
   "cell_type": "code",
   "execution_count": 3,
   "id": "2f63533a",
   "metadata": {},
   "outputs": [
    {
     "name": "stdout",
     "output_type": "stream",
     "text": [
      "5\n",
      "10\n",
      "15\n",
      "20\n",
      "25\n",
      "30\n",
      "35\n",
      "40\n",
      "45\n",
      "50\n",
      "55\n",
      "60\n",
      "65\n",
      "70\n",
      "75\n",
      "80\n",
      "85\n",
      "90\n",
      "95\n",
      "100\n"
     ]
    }
   ],
   "source": [
    "# use while loop to find the first 20 number divisible by 5 \n",
    "i = 1\n",
    "x = 1\n",
    "while i <= 20:\n",
    "    if x%5 == 0: # if the number is divisible by 5 \n",
    "        print (x) # print the number \n",
    "        i += 1  # increment i by 1\n",
    "    x += 1 # increment the number by 1\n"
   ]
  },
  {
   "cell_type": "code",
   "execution_count": 1,
   "id": "c904c454",
   "metadata": {},
   "outputs": [
    {
     "data": {
      "text/plain": [
       "True"
      ]
     },
     "execution_count": 1,
     "metadata": {},
     "output_type": "execute_result"
    }
   ],
   "source": [
    "# here is an exzample function adds two numbers \n",
    "def simple_adding_function(a,b):\n",
    "    return a + b\n",
    "\n",
    "# create a function that evaluate if the number is prime (you can not use a list of known primes) only allow value between 0 and 100\n",
    "def is_prime(number):\n",
    "    if number > 100:  # check if the number is greater than 100\n",
    "        print('The number is greater than 100')\n",
    "        return \n",
    "    elif number < 1: # check if the number is less than 1\n",
    "        print('The number is less than 1')\n",
    "        return\n",
    "    for x in range(number -1, 1 ,-1): # make a range between the addition result and 2 (without considering 1 and the addition \n",
    "        if number%x == 0: # check if the number is divisible by any number from the range\n",
    "            return(False)\n",
    "    return(True)\n",
    "\n",
    "is_prime(simple_adding_function(1,1))\n"
   ]
  }
 ],
 "metadata": {
  "kernelspec": {
   "display_name": "Python 3",
   "language": "python",
   "name": "python3"
  },
  "language_info": {
   "codemirror_mode": {
    "name": "ipython",
    "version": 3
   },
   "file_extension": ".py",
   "mimetype": "text/x-python",
   "name": "python",
   "nbconvert_exporter": "python",
   "pygments_lexer": "ipython3",
   "version": "3.8.8"
  }
 },
 "nbformat": 4,
 "nbformat_minor": 5
}
