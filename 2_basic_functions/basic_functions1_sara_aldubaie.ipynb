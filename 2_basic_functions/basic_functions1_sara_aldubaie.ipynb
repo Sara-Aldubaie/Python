{
 "cells": [
  {
   "cell_type": "markdown",
   "id": "87bfb3c9",
   "metadata": {},
   "source": [
    "## Sara Aldubaie "
   ]
  },
  {
   "cell_type": "code",
   "execution_count": null,
   "id": "5b219f01",
   "metadata": {},
   "outputs": [],
   "source": [
    "#1\n",
    "def a():\n",
    "    return 5\n",
    "print(a())\n",
    "\n",
    "# my prediction: the output is 5 \n"
   ]
  },
  {
   "cell_type": "code",
   "execution_count": null,
   "id": "87df9552",
   "metadata": {},
   "outputs": [],
   "source": [
    "#2\n",
    "def a():\n",
    "    return 5\n",
    "print(a()+a())\n",
    "\n",
    "# my prediction: the output is 10"
   ]
  },
  {
   "cell_type": "code",
   "execution_count": null,
   "id": "0212da28",
   "metadata": {},
   "outputs": [],
   "source": [
    "#3\n",
    "def a():\n",
    "    return 5\n",
    "    return 10\n",
    "print(a())\n",
    "\n",
    "# my prediction: the output is 5 since anything after the first return will not be executed result"
   ]
  },
  {
   "cell_type": "code",
   "execution_count": null,
   "id": "1d2c2d31",
   "metadata": {},
   "outputs": [],
   "source": [
    "#4\n",
    "def a():\n",
    "    return 5\n",
    "    print(10)\n",
    "print(a())\n",
    "\n",
    "# my prediction: the output is 5 since anything after the first return will not be executed result"
   ]
  },
  {
   "cell_type": "code",
   "execution_count": 1,
   "id": "d8eed05c",
   "metadata": {},
   "outputs": [
    {
     "name": "stdout",
     "output_type": "stream",
     "text": [
      "5\n",
      "None\n"
     ]
    }
   ],
   "source": [
    "#5\n",
    "def a():\n",
    "    print(5)\n",
    "x = a()\n",
    "print(x)\n",
    "\n",
    "# my prediction: the output is 5 \n",
    "# sloution: Because there are two print statements. First is inside function and second is outside function. \n",
    "#           When a function doesn't return anything, it implicitly returns None"
   ]
  },
  {
   "cell_type": "code",
   "execution_count": 10,
   "id": "fa5c9d94",
   "metadata": {
    "scrolled": true
   },
   "outputs": [
    {
     "name": "stdout",
     "output_type": "stream",
     "text": [
      "3\n",
      "5\n"
     ]
    },
    {
     "ename": "TypeError",
     "evalue": "unsupported operand type(s) for +: 'NoneType' and 'NoneType'",
     "output_type": "error",
     "traceback": [
      "\u001b[1;31m---------------------------------------------------------------------------\u001b[0m",
      "\u001b[1;31mTypeError\u001b[0m                                 Traceback (most recent call last)",
      "\u001b[1;32m<ipython-input-10-bc0e590cf2fe>\u001b[0m in \u001b[0;36m<module>\u001b[1;34m\u001b[0m\n\u001b[0;32m      2\u001b[0m \u001b[1;32mdef\u001b[0m \u001b[0ma\u001b[0m\u001b[1;33m(\u001b[0m\u001b[0mb\u001b[0m\u001b[1;33m,\u001b[0m\u001b[0mc\u001b[0m\u001b[1;33m)\u001b[0m\u001b[1;33m:\u001b[0m\u001b[1;33m\u001b[0m\u001b[1;33m\u001b[0m\u001b[0m\n\u001b[0;32m      3\u001b[0m     \u001b[0mprint\u001b[0m\u001b[1;33m(\u001b[0m\u001b[0mb\u001b[0m\u001b[1;33m+\u001b[0m\u001b[0mc\u001b[0m\u001b[1;33m)\u001b[0m\u001b[1;33m\u001b[0m\u001b[1;33m\u001b[0m\u001b[0m\n\u001b[1;32m----> 4\u001b[1;33m \u001b[0mprint\u001b[0m\u001b[1;33m(\u001b[0m\u001b[0ma\u001b[0m\u001b[1;33m(\u001b[0m\u001b[1;36m1\u001b[0m\u001b[1;33m,\u001b[0m\u001b[1;36m2\u001b[0m\u001b[1;33m)\u001b[0m \u001b[1;33m+\u001b[0m \u001b[0ma\u001b[0m\u001b[1;33m(\u001b[0m\u001b[1;36m2\u001b[0m\u001b[1;33m,\u001b[0m\u001b[1;36m3\u001b[0m\u001b[1;33m)\u001b[0m\u001b[1;33m)\u001b[0m\u001b[1;33m\u001b[0m\u001b[1;33m\u001b[0m\u001b[0m\n\u001b[0m\u001b[0;32m      5\u001b[0m \u001b[1;31m# my production: 3 and 5\u001b[0m\u001b[1;33m\u001b[0m\u001b[1;33m\u001b[0m\u001b[1;33m\u001b[0m\u001b[0m\n",
      "\u001b[1;31mTypeError\u001b[0m: unsupported operand type(s) for +: 'NoneType' and 'NoneType'"
     ]
    }
   ],
   "source": [
    "#6\n",
    "def a(b,c):\n",
    "    print(b+c)\n",
    "print(a(1,2) + a(2,3))\n",
    "# my prediction: its the same as (3 none + 5 none)I believe the result is error since we are trying to add \n",
    "#                different types of data(integer and none)\n",
    "# sloution: it did print 3 and 5 but than try to adds the None's together which is something unsupported by py"
   ]
  },
  {
   "cell_type": "code",
   "execution_count": 11,
   "id": "1f7b2569",
   "metadata": {},
   "outputs": [
    {
     "name": "stdout",
     "output_type": "stream",
     "text": [
      "25\n"
     ]
    }
   ],
   "source": [
    "#7\n",
    "def a(b,c):\n",
    "    return str(b)+str(c)\n",
    "print(a(2,5))\n",
    "\n",
    "# my prediction: the output is 25\n"
   ]
  },
  {
   "cell_type": "code",
   "execution_count": 12,
   "id": "4520f45c",
   "metadata": {},
   "outputs": [
    {
     "name": "stdout",
     "output_type": "stream",
     "text": [
      "100\n",
      "10\n"
     ]
    }
   ],
   "source": [
    "#8\n",
    "def a():\n",
    "    b = 100\n",
    "    print(b)\n",
    "    if b < 10:\n",
    "        return 5\n",
    "    else:\n",
    "        return 10\n",
    "    return 7\n",
    "print(a())\n",
    "\n",
    "# my prediction: the output is 100 10"
   ]
  },
  {
   "cell_type": "code",
   "execution_count": 13,
   "id": "431a2996",
   "metadata": {},
   "outputs": [
    {
     "name": "stdout",
     "output_type": "stream",
     "text": [
      "7\n",
      "14\n",
      "21\n"
     ]
    }
   ],
   "source": [
    "#9\n",
    "def a(b,c):\n",
    "    if b<c:\n",
    "        return 7\n",
    "    else:\n",
    "        return 14\n",
    "    return 3\n",
    "print(a(2,3))\n",
    "print(a(5,3))\n",
    "print(a(2,3) + a(5,3))\n",
    "\n",
    "# my prediction: the output is 7  14  21"
   ]
  },
  {
   "cell_type": "code",
   "execution_count": 14,
   "id": "1ffab06a",
   "metadata": {},
   "outputs": [
    {
     "name": "stdout",
     "output_type": "stream",
     "text": [
      "8\n"
     ]
    }
   ],
   "source": [
    "#10\n",
    "def a(b,c):\n",
    "    return b+c\n",
    "    return 10\n",
    "print(a(3,5))\n",
    "\n",
    "# my prediction: the output is 8"
   ]
  },
  {
   "cell_type": "code",
   "execution_count": 15,
   "id": "ef7b1e54",
   "metadata": {},
   "outputs": [
    {
     "name": "stdout",
     "output_type": "stream",
     "text": [
      "500\n",
      "500\n",
      "300\n",
      "500\n"
     ]
    }
   ],
   "source": [
    "#11\n",
    "b = 500\n",
    "print(b)\n",
    "def a():\n",
    "    b = 300\n",
    "    print(b)\n",
    "print(b)\n",
    "a()\n",
    "print(b)\n",
    "\n",
    "# my prediction: the output is 500 500 300 500 (b inside function is not the same as global b) "
   ]
  },
  {
   "cell_type": "code",
   "execution_count": 25,
   "id": "4d14e8b6",
   "metadata": {},
   "outputs": [
    {
     "name": "stdout",
     "output_type": "stream",
     "text": [
      "500\n",
      "500\n",
      "300\n",
      "500\n"
     ]
    }
   ],
   "source": [
    "#12\n",
    "b = 500\n",
    "print(b)\n",
    "def a():\n",
    "    b = 300\n",
    "    print(b)\n",
    "    return b\n",
    "print(b)\n",
    "a()\n",
    "print(b)\n",
    "\n",
    "# my prediction:  the output is 500 500 300 500 (print(a())is not used)\n"
   ]
  },
  {
   "cell_type": "code",
   "execution_count": 26,
   "id": "a46cd5db",
   "metadata": {},
   "outputs": [
    {
     "name": "stdout",
     "output_type": "stream",
     "text": [
      "500\n",
      "500\n",
      "300\n",
      "300\n"
     ]
    }
   ],
   "source": [
    "#13\n",
    "b = 500\n",
    "print(b)\n",
    "def a():\n",
    "    b = 300\n",
    "    print(b)\n",
    "    return b\n",
    "print(b)\n",
    "b=a()\n",
    "print(b)\n",
    "\n",
    "# my prediction: the output is 500 500 300 300"
   ]
  },
  {
   "cell_type": "code",
   "execution_count": 27,
   "id": "f1ac56c6",
   "metadata": {},
   "outputs": [
    {
     "name": "stdout",
     "output_type": "stream",
     "text": [
      "1\n",
      "3\n",
      "2\n"
     ]
    }
   ],
   "source": [
    "#14\n",
    "def a():\n",
    "    print(1)\n",
    "    b()\n",
    "    print(2)\n",
    "def b():\n",
    "    print(3)\n",
    "a()\n",
    "\n",
    "# my prediction: the output is 1 3 2"
   ]
  },
  {
   "cell_type": "code",
   "execution_count": 28,
   "id": "9ec9913e",
   "metadata": {},
   "outputs": [
    {
     "name": "stdout",
     "output_type": "stream",
     "text": [
      "1\n",
      "3\n",
      "5\n",
      "10\n"
     ]
    }
   ],
   "source": [
    "#15\n",
    "def a():\n",
    "    print(1)\n",
    "    x = b()\n",
    "    print(x)\n",
    "    return 10\n",
    "def b():\n",
    "    print(3)\n",
    "    return 5\n",
    "y = a()\n",
    "print(y)\n",
    "\n",
    "# my prediction: the output is 1 3 5 10"
   ]
  }
 ],
 "metadata": {
  "kernelspec": {
   "display_name": "Python 3",
   "language": "python",
   "name": "python3"
  },
  "language_info": {
   "codemirror_mode": {
    "name": "ipython",
    "version": 3
   },
   "file_extension": ".py",
   "mimetype": "text/x-python",
   "name": "python",
   "nbconvert_exporter": "python",
   "pygments_lexer": "ipython3",
   "version": "3.8.8"
  }
 },
 "nbformat": 4,
 "nbformat_minor": 5
}
