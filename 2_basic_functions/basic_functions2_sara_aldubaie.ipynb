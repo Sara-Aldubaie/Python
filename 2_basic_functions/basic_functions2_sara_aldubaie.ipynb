{
 "cells": [
  {
   "cell_type": "markdown",
   "id": "4b3b6704",
   "metadata": {},
   "source": [
    "## Sara Aldubaie "
   ]
  },
  {
   "cell_type": "code",
   "execution_count": 2,
   "id": "1938a5a7",
   "metadata": {},
   "outputs": [
    {
     "name": "stdout",
     "output_type": "stream",
     "text": [
      " Please enter a number: 10\n",
      "[10, 9, 8, 7, 6, 5, 4, 3, 2, 1, 0]\n"
     ]
    }
   ],
   "source": [
    "# Countdown - Create a function that accepts a number as an input. Return a new list that counts down by one, from the number (as the 0th element) down to 0 (as the last element).\n",
    "# Example: countdown(5) should return the list: [5,4,3,2,1,0]\n",
    "\n",
    "def Countdown():\n",
    "    number = int(input(\" Please enter a number: \")) # get number from user\n",
    "    list = [] # empty list\n",
    "    for x in range(number, -1, -1): # range from the entered number till zero \n",
    "        list.append(x) # inserting the numbers in the range to the list\n",
    "    return(list) # return the list \n",
    "\n",
    "print(Countdown()) \n"
   ]
  },
  {
   "cell_type": "code",
   "execution_count": 3,
   "id": "4a5ab214",
   "metadata": {},
   "outputs": [
    {
     "name": "stdout",
     "output_type": "stream",
     "text": [
      "2\n"
     ]
    },
    {
     "data": {
      "text/plain": [
       "9"
      ]
     },
     "execution_count": 3,
     "metadata": {},
     "output_type": "execute_result"
    }
   ],
   "source": [
    "# Print and Return - Create a function that will receive a list with two numbers. Print the first value and return the second.\n",
    "# Example: print_and_return([1,2]) should print 1 and return 2\n",
    "\n",
    "def print_return(list): \n",
    "    print(list[0]) # print the first element\n",
    "    return(list[1]) # return the second element \n",
    "\n",
    "print_return([2,9])\n"
   ]
  },
  {
   "cell_type": "code",
   "execution_count": 4,
   "id": "774b12ba",
   "metadata": {},
   "outputs": [
    {
     "data": {
      "text/plain": [
       "6"
      ]
     },
     "execution_count": 4,
     "metadata": {},
     "output_type": "execute_result"
    }
   ],
   "source": [
    "# First Plus Length - Create a function that accepts a list and returns the sum of the first value in the list plus the list's length.\n",
    "# Example: first_plus_length([1,2,3,4,5]) should return 6 (first value: 1 + length: 5)\n",
    "\n",
    "def first_plus_length(list):\n",
    "    return(list[0] + len(list))# adds the first element in the list and length\n",
    "first_plus_length([1,2,3,4,5]) "
   ]
  },
  {
   "cell_type": "code",
   "execution_count": 5,
   "id": "f9e68cf8",
   "metadata": {},
   "outputs": [
    {
     "data": {
      "text/plain": [
       "[11, 11, 11, 11, 11, 11, 11, 11, 11, 11]"
      ]
     },
     "execution_count": 5,
     "metadata": {},
     "output_type": "execute_result"
    }
   ],
   "source": [
    "# This Length, That Value- Write a function that accepts two integers as parameters: size and value. The function should create and return a list whose length is equal to the given size, and whose values are all the given value.\n",
    "# Example: length_and_value(4,7) should return [7,7,7,7]\n",
    "# Example: length_and_value(6,2) should return [2,2,2,2,2,2]\n",
    "\n",
    "def length_value(length, value): \n",
    "    list = [] # empty list \n",
    "    i = 1 # start from 1 \n",
    "    while i <= length: # looping till i equal length\n",
    "        list.append(value) # insert value in the list\n",
    "        i += 1  # increase i by one\n",
    "    return(list) # return the list \n",
    "    \n",
    "length_value(10, 11)\n"
   ]
  },
  {
   "cell_type": "code",
   "execution_count": 6,
   "id": "4bbeb1c9",
   "metadata": {},
   "outputs": [
    {
     "data": {
      "text/plain": [
       "[5, 3, 4]"
      ]
     },
     "execution_count": 6,
     "metadata": {},
     "output_type": "execute_result"
    }
   ],
   "source": [
    "#Values Greater than Second (Optional) - Write a function that accepts a list and creates a new list containing only the values from the original list that are greater than its 2nd value. Print how many values this is and then return the new list. If the list has less than 2 elements, have the function return False\n",
    "# Example: values_greater_than_second([5,2,3,2,1,4]) should print 3 and return [5,3,4]\n",
    "# Example: values_greater_than_second([3]) should return False\n",
    "\n",
    "def values_greater_than_second(user_list):\n",
    "    list = []\n",
    "    for x in user_list: \n",
    "        if len(user_list)<2: # check if the list include only one element \n",
    "                return(False)\n",
    "        elif x > user_list[1] : # check if it greater than the 2cn\n",
    "                list.append(x)\n",
    "    return(list)\n",
    "\n",
    "values_greater_than_second([5,2,3,2,1,4])"
   ]
  }
 ],
 "metadata": {
  "kernelspec": {
   "display_name": "Python 3",
   "language": "python",
   "name": "python3"
  },
  "language_info": {
   "codemirror_mode": {
    "name": "ipython",
    "version": 3
   },
   "file_extension": ".py",
   "mimetype": "text/x-python",
   "name": "python",
   "nbconvert_exporter": "python",
   "pygments_lexer": "ipython3",
   "version": "3.8.8"
  }
 },
 "nbformat": 4,
 "nbformat_minor": 5
}
