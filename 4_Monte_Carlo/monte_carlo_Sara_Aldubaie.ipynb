{
 "cells": [
  {
   "cell_type": "markdown",
   "id": "ddcfc433",
   "metadata": {},
   "source": [
    "## Sara Aldubaie "
   ]
  },
  {
   "cell_type": "code",
   "execution_count": 1,
   "id": "70094388",
   "metadata": {},
   "outputs": [],
   "source": [
    "# import packages\n",
    "import numpy as np \n",
    "from scipy import stats"
   ]
  },
  {
   "cell_type": "code",
   "execution_count": 282,
   "id": "56689f5f",
   "metadata": {},
   "outputs": [
    {
     "name": "stdout",
     "output_type": "stream",
     "text": [
      "50.85\n",
      "95.35\n",
      "99.3\n"
     ]
    }
   ],
   "source": [
    "def match_birthday(population):\n",
    "    \n",
    "    num_groups = 2000 # number of groups \n",
    "    match = 0 # if the group include match \n",
    "\n",
    "    for x in range(1,num_groups+1): # range with number of groups \n",
    "        day_list= [] # empty list each time \n",
    "\n",
    "        for x in range(1,population+1): # range with number peuple in each group \n",
    "            day = np.random.randint(1,366,1) # random number in 365 day in year\n",
    "            day_list.append(int(day)) # add it to a list\n",
    "\n",
    "        mode , count = stats.mode(day_list) # mode is the most frequent number and count is repetition\n",
    "        if count > 1:  # repetition must be more than one to be included \n",
    "            match += 1 # increment match by one\n",
    "\n",
    "    probability = match/ num_groups*100 # finding the probability\n",
    "\n",
    "\n",
    "    return(round(probability,2))\n",
    "\n",
    "\n",
    "print(match_birthday(23))  # 23 people will give us a percentage of (49- 51) average of percentage is 50%\n",
    "print(match_birthday(47))  # 47 people will give us a percentage of (94- 96) average of percentage is 95%\n",
    "print(match_birthday(58))  # 58 people will give us a percentage is 99%"
   ]
  }
 ],
 "metadata": {
  "kernelspec": {
   "display_name": "Python 3",
   "language": "python",
   "name": "python3"
  },
  "language_info": {
   "codemirror_mode": {
    "name": "ipython",
    "version": 3
   },
   "file_extension": ".py",
   "mimetype": "text/x-python",
   "name": "python",
   "nbconvert_exporter": "python",
   "pygments_lexer": "ipython3",
   "version": "3.8.8"
  }
 },
 "nbformat": 4,
 "nbformat_minor": 5
}
