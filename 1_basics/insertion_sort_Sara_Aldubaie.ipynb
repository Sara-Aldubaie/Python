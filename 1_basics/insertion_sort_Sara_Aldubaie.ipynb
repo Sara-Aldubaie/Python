{
 "cells": [
  {
   "cell_type": "markdown",
   "id": "f3befc60",
   "metadata": {},
   "source": [
    "## Sara Aldubaie"
   ]
  },
  {
   "cell_type": "code",
   "execution_count": 4,
   "id": "a40fbc9d",
   "metadata": {},
   "outputs": [
    {
     "data": {
      "text/plain": [
       "[-3, -2, -1, 0, 1, 2, 3, 4, 5, 6, 7, 8, 9, 10]"
      ]
     },
     "execution_count": 4,
     "metadata": {},
     "output_type": "execute_result"
    }
   ],
   "source": [
    "\n",
    "def insertion_sorting(list):\n",
    "    for x in list:\n",
    "        index = list.index(x)# find the index of current element in the list\n",
    "        if index > 0: # in not the first element \n",
    "            for y in range(0,index): # range include index for all numbers before the selected element \n",
    "\n",
    "                if list[index] < list[y]: # if the element value is less than any other value inside the range\n",
    "                    list.insert(y,x) # insert the element in the correct placement\n",
    "                    list.pop(index+1)# removing it from the previous placement\n",
    "                    # to view the steps uncomment below line\n",
    "                    # print(list)\n",
    "                    break\n",
    "    return(list)\n",
    "insertion_sorting([3,7,-2,6,2,-1,1,4,5,10,8,9,0 ,-3])"
   ]
  }
 ],
 "metadata": {
  "kernelspec": {
   "display_name": "Python 3",
   "language": "python",
   "name": "python3"
  },
  "language_info": {
   "codemirror_mode": {
    "name": "ipython",
    "version": 3
   },
   "file_extension": ".py",
   "mimetype": "text/x-python",
   "name": "python",
   "nbconvert_exporter": "python",
   "pygments_lexer": "ipython3",
   "version": "3.8.8"
  }
 },
 "nbformat": 4,
 "nbformat_minor": 5
}
