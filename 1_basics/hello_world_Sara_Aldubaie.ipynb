{
 "cells": [
  {
   "cell_type": "markdown",
   "id": "80b1cda1",
   "metadata": {},
   "source": [
    "## Sara Aldubaie "
   ]
  },
  {
   "cell_type": "code",
   "execution_count": 1,
   "id": "46ca0143",
   "metadata": {
    "scrolled": true
   },
   "outputs": [
    {
     "name": "stdout",
     "output_type": "stream",
     "text": [
      "Hello World\n"
     ]
    }
   ],
   "source": [
    "# 1. TASK: print \"Hello World\"\n",
    "print('Hello World')"
   ]
  },
  {
   "cell_type": "code",
   "execution_count": 2,
   "id": "5eaa3664",
   "metadata": {},
   "outputs": [
    {
     "name": "stdout",
     "output_type": "stream",
     "text": [
      "Hello Sara\n",
      "Hello Sara\n"
     ]
    }
   ],
   "source": [
    "# 2. print \"Hello Noelle!\" with the name in a variable\n",
    "name = \"Sara\"\n",
    "print('Hello', name)\t# with a comma\n",
    "print('Hello ' + name)\t# with a +"
   ]
  },
  {
   "cell_type": "code",
   "execution_count": 3,
   "id": "6cc46eb8",
   "metadata": {},
   "outputs": [
    {
     "name": "stdout",
     "output_type": "stream",
     "text": [
      "Hello 11\n"
     ]
    },
    {
     "ename": "TypeError",
     "evalue": "can only concatenate str (not \"int\") to str",
     "output_type": "error",
     "traceback": [
      "\u001b[1;31m---------------------------------------------------------------------------\u001b[0m",
      "\u001b[1;31mTypeError\u001b[0m                                 Traceback (most recent call last)",
      "\u001b[1;32m<ipython-input-3-57b11d95d20a>\u001b[0m in \u001b[0;36m<module>\u001b[1;34m\u001b[0m\n\u001b[0;32m      2\u001b[0m \u001b[0mnumber\u001b[0m \u001b[1;33m=\u001b[0m \u001b[1;36m11\u001b[0m\u001b[1;33m\u001b[0m\u001b[1;33m\u001b[0m\u001b[0m\n\u001b[0;32m      3\u001b[0m \u001b[0mprint\u001b[0m\u001b[1;33m(\u001b[0m\u001b[1;34m'Hello'\u001b[0m\u001b[1;33m,\u001b[0m \u001b[0mnumber\u001b[0m\u001b[1;33m)\u001b[0m  \u001b[1;31m# with a comma\u001b[0m\u001b[1;33m\u001b[0m\u001b[1;33m\u001b[0m\u001b[0m\n\u001b[1;32m----> 4\u001b[1;33m \u001b[0mprint\u001b[0m\u001b[1;33m(\u001b[0m\u001b[1;34m'Hello '\u001b[0m\u001b[1;33m+\u001b[0m \u001b[0mnumber\u001b[0m\u001b[1;33m)\u001b[0m \u001b[1;31m# with a +      -- this one should give us an error!\u001b[0m\u001b[1;33m\u001b[0m\u001b[1;33m\u001b[0m\u001b[0m\n\u001b[0m",
      "\u001b[1;31mTypeError\u001b[0m: can only concatenate str (not \"int\") to str"
     ]
    }
   ],
   "source": [
    "# 3. print \"Hello 42!\" with the number in a variable\n",
    "number = 11\n",
    "print('Hello', number)\t# with a comma\n",
    "print('Hello '+ number)\t# with a +\t-- this one should give us an error!"
   ]
  },
  {
   "cell_type": "code",
   "execution_count": 4,
   "id": "e1850514",
   "metadata": {},
   "outputs": [
    {
     "name": "stdout",
     "output_type": "stream",
     "text": [
      "Hello 11\n"
     ]
    }
   ],
   "source": [
    "# it can be solved by accssing number as a string value \n",
    "print('Hello '+ str(number))"
   ]
  },
  {
   "cell_type": "code",
   "execution_count": 5,
   "id": "1986c1b2",
   "metadata": {},
   "outputs": [
    {
     "name": "stdout",
     "output_type": "stream",
     "text": [
      "I love to eat pasta and burger.\n",
      "I love to eat pasta and burger.\n"
     ]
    }
   ],
   "source": [
    "# 4. print \"I love to eat sushi and pizza.\" with the foods in variables\n",
    "fave_food1 = \"pasta\"\n",
    "fave_food2 = \"burger\"\n",
    "print(\"I love to eat {} and {}.\".format(fave_food1, fave_food2)) # with .format()\n",
    "print(f\"I love to eat {fave_food1} and {fave_food2}.\") # with an f string\n"
   ]
  },
  {
   "cell_type": "code",
   "execution_count": 6,
   "id": "611167d1",
   "metadata": {},
   "outputs": [
    {
     "data": {
      "text/plain": [
       "'SARA'"
      ]
     },
     "execution_count": 6,
     "metadata": {},
     "output_type": "execute_result"
    }
   ],
   "source": [
    "# optional (methods)\n",
    "name.upper()\n"
   ]
  },
  {
   "cell_type": "code",
   "execution_count": 7,
   "id": "acd4b965",
   "metadata": {},
   "outputs": [
    {
     "data": {
      "text/plain": [
       "'sara'"
      ]
     },
     "execution_count": 7,
     "metadata": {},
     "output_type": "execute_result"
    }
   ],
   "source": [
    "name.lower()"
   ]
  },
  {
   "cell_type": "code",
   "execution_count": 8,
   "id": "4c83d5a9",
   "metadata": {},
   "outputs": [
    {
     "data": {
      "text/plain": [
       "2"
      ]
     },
     "execution_count": 8,
     "metadata": {},
     "output_type": "execute_result"
    }
   ],
   "source": [
    "name.count('a')"
   ]
  }
 ],
 "metadata": {
  "kernelspec": {
   "display_name": "Python 3",
   "language": "python",
   "name": "python3"
  },
  "language_info": {
   "codemirror_mode": {
    "name": "ipython",
    "version": 3
   },
   "file_extension": ".py",
   "mimetype": "text/x-python",
   "name": "python",
   "nbconvert_exporter": "python",
   "pygments_lexer": "ipython3",
   "version": "3.8.8"
  }
 },
 "nbformat": 4,
 "nbformat_minor": 5
}
