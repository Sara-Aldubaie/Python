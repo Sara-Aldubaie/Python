{
 "cells": [
  {
   "cell_type": "markdown",
   "id": "d0ef36d0",
   "metadata": {},
   "source": [
    "## Sara ALdubaie "
   ]
  },
  {
   "cell_type": "code",
   "execution_count": 1,
   "id": "1cb67f48",
   "metadata": {},
   "outputs": [],
   "source": [
    "# finding the minimum value in the list\n",
    "def minimum(list):\n",
    "    if not list: \n",
    "        return(False)\n",
    "    else:\n",
    "        min = list[0]\n",
    "        for x in list:\n",
    "            if x < min: \n",
    "                min = x \n",
    "        return(min)\n"
   ]
  },
  {
   "cell_type": "code",
   "execution_count": 2,
   "id": "520745b5",
   "metadata": {},
   "outputs": [],
   "source": [
    "# finding the length of the list\n",
    "def length(list):\n",
    "    count = 0 # length \n",
    "    for x in list:\n",
    "        count = count +1 \n",
    "    return(count)"
   ]
  },
  {
   "cell_type": "code",
   "execution_count": 3,
   "id": "77a9f433",
   "metadata": {},
   "outputs": [
    {
     "data": {
      "text/plain": [
       "[1, 2, 3, 4, 5, 6, 7, 8, 9, 10, 11, 12, 13, 14, 15]"
      ]
     },
     "execution_count": 3,
     "metadata": {},
     "output_type": "execute_result"
    }
   ],
   "source": [
    "# sorting the list function \n",
    "def list_sort(list):\n",
    "    \n",
    "    sorted_list =[]\n",
    "    for x in range(0,length(list) ): \n",
    "        min = minimum(list)\n",
    "        list.remove(min)\n",
    "        sorted_list.append(min)\n",
    "    list = sorted_list\n",
    "    return(list)\n",
    "\n",
    "list_sort([3,2,1,4,15,10,5,8,7,6,9,11,14,12,13])\n",
    "            "
   ]
  }
 ],
 "metadata": {
  "kernelspec": {
   "display_name": "Python 3",
   "language": "python",
   "name": "python3"
  },
  "language_info": {
   "codemirror_mode": {
    "name": "ipython",
    "version": 3
   },
   "file_extension": ".py",
   "mimetype": "text/x-python",
   "name": "python",
   "nbconvert_exporter": "python",
   "pygments_lexer": "ipython3",
   "version": "3.8.8"
  }
 },
 "nbformat": 4,
 "nbformat_minor": 5
}
