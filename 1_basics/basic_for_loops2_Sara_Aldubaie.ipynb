{
 "cells": [
  {
   "cell_type": "markdown",
   "id": "af65eb59",
   "metadata": {},
   "source": [
    "## Sara Aldubaie "
   ]
  },
  {
   "cell_type": "code",
   "execution_count": 1,
   "id": "ddf4d728",
   "metadata": {},
   "outputs": [
    {
     "data": {
      "text/plain": [
       "['big', 'big', 'big', -4, -5, -10, 'big', 0, 'big', 'big', -9, 0]"
      ]
     },
     "execution_count": 1,
     "metadata": {},
     "output_type": "execute_result"
    }
   ],
   "source": [
    "# Biggie Size - Given a list, write a function that changes all positive numbers in the list to \"big\".\n",
    "def biggie_size(list):\n",
    "\n",
    "    for x in list:\n",
    "        if x > 0 : \n",
    "            list.insert(list.index(x), \"big\")\n",
    "            list.pop(list.index(x))\n",
    "    return(list)\n",
    "\n",
    "    \n",
    "biggie_size([1,2,3,-4,-5,-10,10,0,23,5,-9,0])\n",
    "    "
   ]
  },
  {
   "cell_type": "code",
   "execution_count": 2,
   "id": "4dddad82",
   "metadata": {},
   "outputs": [
    {
     "data": {
      "text/plain": [
       "[1, -3, -5, 2, 3, 4, 0, -10, 5]"
      ]
     },
     "execution_count": 2,
     "metadata": {},
     "output_type": "execute_result"
    }
   ],
   "source": [
    "# Count Positives - Given a list of numbers, create a function to replace the last value with the number of positive values.\n",
    "\n",
    "def count_positives(list):\n",
    "    i = 0\n",
    "    for x in list:\n",
    "        if x > 0 : \n",
    "            i = i +1 \n",
    "    list.pop(-1)\n",
    "    list.append(i)\n",
    "    return(list)\n",
    "count_positives([1,-3, -5, 2,3,4,0,-10, 1,])"
   ]
  },
  {
   "cell_type": "code",
   "execution_count": 3,
   "id": "002daa4a",
   "metadata": {},
   "outputs": [
    {
     "data": {
      "text/plain": [
       "45"
      ]
     },
     "execution_count": 3,
     "metadata": {},
     "output_type": "execute_result"
    }
   ],
   "source": [
    "# Sum Total - Create a function that takes a list and returns the sum of all the values in the array.\n",
    "def sum_total(list):\n",
    "    i = 0 \n",
    "    for x in list: \n",
    "        i = x + i \n",
    "    return (i)\n",
    "sum_total([1,2,3,4,5,6,7,8,9,10,-10,0])"
   ]
  },
  {
   "cell_type": "code",
   "execution_count": 4,
   "id": "4c2b7856",
   "metadata": {},
   "outputs": [
    {
     "data": {
      "text/plain": [
       "3.75"
      ]
     },
     "execution_count": 4,
     "metadata": {},
     "output_type": "execute_result"
    }
   ],
   "source": [
    "# Average - Create a function that takes a list and returns the average of all the values.\n",
    "def average(list):\n",
    "    count = 0 # number of elements in the list \n",
    "    sum = 0 # adding all numbers in the list \n",
    "    for x in list:\n",
    "        count = count +1 \n",
    "        sum = sum + x \n",
    "    avg = round(sum / count, 2) # average \n",
    "    return(avg)\n",
    "average([1,2,3,4,5,6,7,8,9,10,-10,0])"
   ]
  },
  {
   "cell_type": "code",
   "execution_count": 5,
   "id": "66324968",
   "metadata": {},
   "outputs": [
    {
     "data": {
      "text/plain": [
       "9"
      ]
     },
     "execution_count": 5,
     "metadata": {},
     "output_type": "execute_result"
    }
   ],
   "source": [
    "# Length - Create a function that takes a list and returns the length of the list.\n",
    "def length(list):\n",
    "    count = 0 # length \n",
    "    for x in list:\n",
    "        count = count +1 \n",
    "    return(count)\n",
    "length([1,3,4,5,6,2,1,3,7])\n"
   ]
  },
  {
   "cell_type": "code",
   "execution_count": 6,
   "id": "caa6fc76",
   "metadata": {},
   "outputs": [
    {
     "data": {
      "text/plain": [
       "-55"
      ]
     },
     "execution_count": 6,
     "metadata": {},
     "output_type": "execute_result"
    }
   ],
   "source": [
    "# Minimum - Create a function that takes a list of numbers and returns the minimum value in the list. \n",
    "def minimum(list):\n",
    "    if not list: \n",
    "        return(False)\n",
    "    else:\n",
    "        min = list[0]\n",
    "        for x in list:\n",
    "            if x < min: \n",
    "                min = x \n",
    "        return(min)\n",
    "\n",
    "minimum([2,4,6,1,5,78,9, 0,-8,-55])\n",
    "    "
   ]
  },
  {
   "cell_type": "code",
   "execution_count": 7,
   "id": "2b772da1",
   "metadata": {},
   "outputs": [
    {
     "data": {
      "text/plain": [
       "False"
      ]
     },
     "execution_count": 7,
     "metadata": {},
     "output_type": "execute_result"
    }
   ],
   "source": [
    "# (Optional) If the list is empty, have the function return False.\n",
    "minimum([])"
   ]
  },
  {
   "cell_type": "code",
   "execution_count": 8,
   "id": "d7688981",
   "metadata": {},
   "outputs": [
    {
     "data": {
      "text/plain": [
       "78"
      ]
     },
     "execution_count": 8,
     "metadata": {},
     "output_type": "execute_result"
    }
   ],
   "source": [
    "# Maximum - Create a function that takes a list and returns the maximum value in the array. (Optional) If the list is empty, have the function return False.\n",
    "def maximum(list):\n",
    "    if not list: \n",
    "        return(False)\n",
    "    else:\n",
    "        max = list[0]\n",
    "        for x in list:\n",
    "            if x > max: \n",
    "                max = x \n",
    "        return(max)\n",
    "\n",
    "maximum([2,4,6,1,5,78,9, 0,-8,-55])"
   ]
  },
  {
   "cell_type": "code",
   "execution_count": 9,
   "id": "8ef219f2",
   "metadata": {},
   "outputs": [
    {
     "data": {
      "text/plain": [
       "False"
      ]
     },
     "execution_count": 9,
     "metadata": {},
     "output_type": "execute_result"
    }
   ],
   "source": [
    "# (Optional) If the list is empty, have the function return False.\n",
    "maximum([])"
   ]
  },
  {
   "cell_type": "code",
   "execution_count": 10,
   "id": "08d294c6",
   "metadata": {},
   "outputs": [
    {
     "data": {
      "text/plain": [
       "[42, 4.2, 10, -55, 78]"
      ]
     },
     "execution_count": 10,
     "metadata": {},
     "output_type": "execute_result"
    }
   ],
   "source": [
    "#Ultimate Analysis (Optional) - Create a function that takes a list and returns a dictionary that has the sumTotal, average, minimum, maximum and length of the list.\n",
    "def ultimate_analysis(list):\n",
    "    list_summary = [sum_total(list), average(list),length(list), minimum(list), maximum(list)]\n",
    "    return(list_summary)\n",
    "\n",
    "ultimate_analysis([2,4,6,1,5,78,9, 0,-8,-55])\n",
    "    "
   ]
  },
  {
   "cell_type": "code",
   "execution_count": 11,
   "id": "1d67d9a6",
   "metadata": {},
   "outputs": [
    {
     "data": {
      "text/plain": [
       "[-55, -8, 0, 9, 78, 5, 1, 6, 4, 2]"
      ]
     },
     "execution_count": 11,
     "metadata": {},
     "output_type": "execute_result"
    }
   ],
   "source": [
    "#Reverse List (Optional) - Create a function that takes a list and return that list with values reversed. Do this without creating a second list. (This challenge is known to appear during basic technical interviews.)\n",
    "\n",
    "def reverse_list(list):\n",
    "    return list[::-1] # it starts from the end towards the first element.\n",
    "\n",
    "reverse_list([2,4,6,1,5,78,9, 0,-8,-55])"
   ]
  }
 ],
 "metadata": {
  "kernelspec": {
   "display_name": "Python 3",
   "language": "python",
   "name": "python3"
  },
  "language_info": {
   "codemirror_mode": {
    "name": "ipython",
    "version": 3
   },
   "file_extension": ".py",
   "mimetype": "text/x-python",
   "name": "python",
   "nbconvert_exporter": "python",
   "pygments_lexer": "ipython3",
   "version": "3.8.8"
  }
 },
 "nbformat": 4,
 "nbformat_minor": 5
}
