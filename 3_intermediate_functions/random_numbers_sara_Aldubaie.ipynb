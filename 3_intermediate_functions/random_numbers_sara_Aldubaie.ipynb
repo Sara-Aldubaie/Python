{
 "cells": [
  {
   "cell_type": "markdown",
   "id": "0d7ce071",
   "metadata": {},
   "source": [
    "## Sara Aldubaie "
   ]
  },
  {
   "cell_type": "code",
   "execution_count": 2,
   "id": "116ba75f",
   "metadata": {},
   "outputs": [],
   "source": [
    "#package numpy \n",
    "import numpy as np"
   ]
  },
  {
   "cell_type": "code",
   "execution_count": 4,
   "id": "d89cfc2d",
   "metadata": {},
   "outputs": [
    {
     "name": "stdout",
     "output_type": "stream",
     "text": [
      "[[0.43316186 0.6200794  0.90272544]\n",
      " [0.75116152 0.31958424 0.2828003 ]]\n"
     ]
    }
   ],
   "source": [
    "A = np.random.rand(2,3) # 2 number of row 3 number of column\n",
    "print(A)"
   ]
  },
  {
   "cell_type": "code",
   "execution_count": 12,
   "id": "ca319aec",
   "metadata": {},
   "outputs": [
    {
     "name": "stdout",
     "output_type": "stream",
     "text": [
      "[[ 0.16379146 -0.83871359]\n",
      " [ 0.51274693  0.11853901]]\n"
     ]
    }
   ],
   "source": [
    "A = np.random.randn(2,2) # \n",
    "print(A)"
   ]
  },
  {
   "cell_type": "code",
   "execution_count": 13,
   "id": "7af3231d",
   "metadata": {},
   "outputs": [
    {
     "name": "stdout",
     "output_type": "stream",
     "text": [
      "[3 3 3 4 3 3]\n"
     ]
    }
   ],
   "source": [
    " A = np.random.randint(2,5,6) #2 low, 5 high, 6 size\n",
    " print(A)"
   ]
  },
  {
   "cell_type": "code",
   "execution_count": 26,
   "id": "193e7b75",
   "metadata": {},
   "outputs": [
    {
     "data": {
      "text/plain": [
       "array([ 7,  7, 20])"
      ]
     },
     "execution_count": 26,
     "metadata": {},
     "output_type": "execute_result"
    }
   ],
   "source": [
    "np.random.choice([1,20,3,6,7], 3)"
   ]
  },
  {
   "cell_type": "code",
   "execution_count": null,
   "id": "02a8fe50",
   "metadata": {},
   "outputs": [],
   "source": []
  }
 ],
 "metadata": {
  "kernelspec": {
   "display_name": "Python 3",
   "language": "python",
   "name": "python3"
  },
  "language_info": {
   "codemirror_mode": {
    "name": "ipython",
    "version": 3
   },
   "file_extension": ".py",
   "mimetype": "text/x-python",
   "name": "python",
   "nbconvert_exporter": "python",
   "pygments_lexer": "ipython3",
   "version": "3.8.8"
  }
 },
 "nbformat": 4,
 "nbformat_minor": 5
}
