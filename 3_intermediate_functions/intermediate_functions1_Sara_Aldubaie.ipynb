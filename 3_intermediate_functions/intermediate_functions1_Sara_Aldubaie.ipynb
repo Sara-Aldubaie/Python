{
 "cells": [
  {
   "cell_type": "markdown",
   "id": "a2ffe6e5",
   "metadata": {},
   "source": [
    "## Sara Aldubaie"
   ]
  },
  {
   "cell_type": "code",
   "execution_count": 1,
   "id": "439d884f",
   "metadata": {},
   "outputs": [],
   "source": [
    "# package random \n",
    "import random"
   ]
  },
  {
   "cell_type": "code",
   "execution_count": 2,
   "id": "1392ec84",
   "metadata": {},
   "outputs": [
    {
     "name": "stdout",
     "output_type": "stream",
     "text": [
      "5\n",
      "28\n",
      "69\n",
      "386\n",
      "please make sure the min number is less than the max\n",
      "please make sure the number is greater than zero\n",
      "please make sure the min number is less than the max\n",
      "please make sure the number's are not the same\n"
     ]
    }
   ],
   "source": [
    "def randInt(min=1   , max=100   ):\n",
    "    \n",
    "    if min > max: \n",
    "        return(\"please make sure the min number is less than the max\")\n",
    "    elif max < 0 or min <0: \n",
    "        return(\"please make sure the number is greater than zero\")\n",
    "    elif max == min: \n",
    "        return(\"please make sure the number's are not the same\")\n",
    "    \n",
    "    num = int(random.random()*max+min)\n",
    "    # if the random number is greater than max it will choose another random number\n",
    "    while num > max: \n",
    "        num = int(random.random()*max+min) \n",
    "        \n",
    "    return num\n",
    "\n",
    "print(randInt()) \t\t\t       #  print a random integer between 0 to 100\n",
    "print(randInt(max=50)) \t\t       #  print a random integer between 0 to 50\n",
    "print(randInt(min=50)) \t\t       #  print a random integer between 50 to 100\n",
    "print(randInt(min=50, max=500))    #  print a random integer between 50 and 500\n",
    "print(randInt(min=50, max=20))     #  print error: \"please make sure the min number is less than the max\"\n",
    "print(randInt(min=-50, max=50))    #  print error: \"please make sure the number is greater than zero\"\n",
    "print(randInt(min=50, max=-50))    #  print error: \"please make sure the number is greater than zero\"\n",
    "print(randInt(min=50, max=50))     #  print error: \"please make sure the number's are not the same\""
   ]
  }
 ],
 "metadata": {
  "kernelspec": {
   "display_name": "Python 3",
   "language": "python",
   "name": "python3"
  },
  "language_info": {
   "codemirror_mode": {
    "name": "ipython",
    "version": 3
   },
   "file_extension": ".py",
   "mimetype": "text/x-python",
   "name": "python",
   "nbconvert_exporter": "python",
   "pygments_lexer": "ipython3",
   "version": "3.8.8"
  }
 },
 "nbformat": 4,
 "nbformat_minor": 5
}
