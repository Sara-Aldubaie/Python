{
 "cells": [
  {
   "cell_type": "markdown",
   "id": "3c73656b",
   "metadata": {},
   "source": [
    "## Sara Aldubaie "
   ]
  },
  {
   "cell_type": "code",
   "execution_count": 1,
   "id": "8ab7d179",
   "metadata": {},
   "outputs": [],
   "source": [
    "x = [ [5,2,3], [10,8,9] ] \n",
    "students = [\n",
    "     {'first_name':  'Michael', 'last_name' : 'Jordan'},\n",
    "     {'first_name' : 'John', 'last_name' : 'Rosales'}\n",
    "]\n",
    "sports_directory = {\n",
    "    'basketball' : ['Kobe', 'Jordan', 'James', 'Curry'],\n",
    "    'soccer' : ['Messi', 'Ronaldo', 'Rooney']\n",
    "}\n",
    "z = [ {'x': 10, 'y': 20} ]"
   ]
  },
  {
   "cell_type": "code",
   "execution_count": 2,
   "id": "37a1d6f0",
   "metadata": {},
   "outputs": [
    {
     "name": "stdout",
     "output_type": "stream",
     "text": [
      "[[5, 2, 3], [15, 8, 9]]\n",
      "[{'first_name': 'Michael', 'last_name': 'Bryant'}, {'first_name': 'John', 'last_name': 'Rosales'}]\n",
      "{'basketball': ['Kobe', 'Jordan', 'James', 'Curry'], 'soccer': ['Andres', 'Ronaldo', 'Rooney']}\n",
      "[{'x': 10, 'y': 30}]\n"
     ]
    }
   ],
   "source": [
    "# Change the value 10 in x to 15. Once you're done, x should now be [ [5,2,3], [15,8,9] ]\n",
    "x[1][0] = 15\n",
    "print(x)\n",
    "\n",
    "# Change the last_name of the first student from 'Jordan' to 'Bryant'\n",
    "students[0]['last_name'] = 'Bryant'\n",
    "print(students)\n",
    "\n",
    "#In the sports_directory, change 'Messi' to 'Andres'\n",
    "sports_directory['soccer'][0] = 'Andres'\n",
    "print(sports_directory)\n",
    "\n",
    "#Change the value 20 in z to 30\n",
    "\n",
    "z[0]['y'] = 30 \n",
    "print(z)"
   ]
  },
  {
   "cell_type": "code",
   "execution_count": 3,
   "id": "b46fdeea",
   "metadata": {},
   "outputs": [
    {
     "name": "stdout",
     "output_type": "stream",
     "text": [
      "Michael\n",
      "Jordan\n",
      "John\n",
      "Rosales\n",
      "Mark\n",
      "Guillen\n",
      "KB\n",
      "Tonel\n"
     ]
    }
   ],
   "source": [
    "# Create a function iterateDictionary(some_list) that, given a list of dictionaries, the function loops through each dictionary in the list and prints each key and the associated value. For example, given the following list:\n",
    "students = [\n",
    "         {'first_name' : 'Michael', 'last_name' : 'Jordan'},\n",
    "         {'first_name' : 'John', 'last_name' : 'Rosales'},\n",
    "         {'first_name' : 'Mark', 'last_name' : 'Guillen'},\n",
    "         {'first_name' : 'KB', 'last_name' : 'Tonel'}\n",
    "    ]"
   ]
  },
  {
   "cell_type": "code",
   "execution_count": 42,
   "id": "76f39ca7",
   "metadata": {},
   "outputs": [
    {
     "name": "stdout",
     "output_type": "stream",
     "text": [
      "first_name - Michael last_name - Jordan \n",
      "first_name - John last_name - Rosales \n",
      "first_name - Mark last_name - Guillen \n",
      "first_name - KB last_name - Tonel \n"
     ]
    }
   ],
   "source": [
    "\n",
    "def iterateDictionary(some_list): \n",
    "    for x in range(0,len(some_list)):\n",
    "        for key in some_list[x].keys():\n",
    "            print(key,'-' , some_list[x][key], end =' ')\n",
    "        print('')\n",
    "            \n",
    "iterateDictionary(students) \n",
    "\n",
    "\n"
   ]
  },
  {
   "cell_type": "code",
   "execution_count": 6,
   "id": "8e339fb3",
   "metadata": {},
   "outputs": [
    {
     "name": "stdout",
     "output_type": "stream",
     "text": [
      "Michael\n",
      "John\n",
      "Mark\n",
      "KB\n",
      "Jordan\n",
      "Rosales\n",
      "Guillen\n",
      "Tonel\n"
     ]
    }
   ],
   "source": [
    "def iterateDictionary2(key_name, some_list):\n",
    "    for x in range(0,len(some_list)):\n",
    "            print(some_list[x][key_name])\n",
    "            \n",
    "iterateDictionary2('first_name', students)\n",
    "iterateDictionary2('last_name', students)"
   ]
  },
  {
   "cell_type": "code",
   "execution_count": 35,
   "id": "75b7105e",
   "metadata": {},
   "outputs": [
    {
     "name": "stdout",
     "output_type": "stream",
     "text": [
      "7 locations\n",
      "San Jose\n",
      "Seattle\n",
      "Dallas\n",
      "Chicago\n",
      "Tulsa\n",
      "DC\n",
      "Burbank\n",
      "\n",
      "8 instructors\n",
      "Michael\n",
      "Amy\n",
      "Eduardo\n",
      "Josh\n",
      "Graham\n",
      "Patrick\n",
      "Minh\n",
      "Devon\n",
      "\n"
     ]
    }
   ],
   "source": [
    "dojo = {\n",
    "   'locations': ['San Jose', 'Seattle', 'Dallas', 'Chicago', 'Tulsa', 'DC', 'Burbank'],\n",
    "   'instructors': ['Michael', 'Amy', 'Eduardo', 'Josh', 'Graham', 'Patrick', 'Minh', 'Devon']\n",
    "}\n",
    "\n",
    "for key in dojo.keys(): # looping throgh keys  \n",
    "    print(len(dojo[key]), key) # print length of key and key name \n",
    "    for x in dojo[key]: \n",
    "        print(x)        #print the value of selected key \n",
    "    print('') # new line "
   ]
  }
 ],
 "metadata": {
  "kernelspec": {
   "display_name": "Python 3",
   "language": "python",
   "name": "python3"
  },
  "language_info": {
   "codemirror_mode": {
    "name": "ipython",
    "version": 3
   },
   "file_extension": ".py",
   "mimetype": "text/x-python",
   "name": "python",
   "nbconvert_exporter": "python",
   "pygments_lexer": "ipython3",
   "version": "3.8.8"
  }
 },
 "nbformat": 4,
 "nbformat_minor": 5
}
